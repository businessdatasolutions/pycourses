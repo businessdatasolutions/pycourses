{
 "cells": [
  {
   "source": [
    "# Reinforcement Learning"
   ],
   "cell_type": "markdown",
   "metadata": {}
  },
  {
   "source": [
    "Watch this video:\n",
    "\n",
    "<iframe width=\"560\" height=\"315\" src=\"https://www.youtube.com/embed/kopoLzvh5jY\" frameborder=\"0\" allow=\"accelerometer; autoplay; clipboard-write; encrypted-media; gyroscope; picture-in-picture\" allowfullscreen></iframe>\n",
    "<hr>"
   ],
   "cell_type": "markdown",
   "metadata": {}
  },
  {
   "source": [
    ":::{admonition} Assignments:\n",
    ":class: hint\n",
    "\n",
    "1. *Individual* -- Find a real-life business application of reinforcement learning\n",
    "2. *Team* -- Gather all applications and discuss what the shared characteristics are\n",
    "3. *Team* -- Develop a concept for a new application that is based on reinforcement learning\n",
    ":::"
   ],
   "cell_type": "markdown",
   "metadata": {}
  },
  {
   "source": [
    "## An example\n",
    "\n",
    "We will have the computer play a coin tossing game. The coin is biased and lands 80% of time on heads. First we'll let the computer bet randomly."
   ],
   "cell_type": "markdown",
   "metadata": {}
  },
  {
   "source": [
    "We will start by defining the state space which tells what the possible states of the coin can be (1 = heads, 0 = tails). We'll do the same for the action space which is the set of possible bets (1 = bet on heads, 0 = bet on tails)."
   ],
   "cell_type": "markdown",
   "metadata": {}
  },
  {
   "cell_type": "code",
   "execution_count": 1,
   "metadata": {},
   "outputs": [],
   "source": [
    "import numpy as np\n",
    "ssp = [1, 1, 1, 1, 0]\n",
    "asp = [1, 0]\n",
    "\n",
    "\n"
   ]
  },
  {
   "source": [
    "Next we'll define a function `epoch()` that plays the game a hundred times and let it run 15 times. As expected the average reward is around 50. "
   ],
   "cell_type": "markdown",
   "metadata": {}
  },
  {
   "cell_type": "code",
   "execution_count": 7,
   "metadata": {},
   "outputs": [
    {
     "output_type": "execute_result",
     "data": {
      "text/plain": [
       "array([45, 45, 44, 61, 51, 53, 51, 51, 48, 47, 46, 51, 45, 40, 48])"
      ]
     },
     "metadata": {},
     "execution_count": 7
    }
   ],
   "source": [
    "def epoch():\n",
    "    tr = 0\n",
    "    for _ in range(100):\n",
    "        a = np.random.choice(asp)\n",
    "        s = np.random.choice(ssp)\n",
    "        if a == s:\n",
    "            tr += 1\n",
    "    return tr\n",
    "\n",
    "rl = np.array([epoch() for _ in range(15)])\n",
    "rl"
   ]
  },
  {
   "cell_type": "code",
   "execution_count": 11,
   "metadata": {},
   "outputs": [
    {
     "output_type": "execute_result",
     "data": {
      "text/plain": [
       "45.93"
      ]
     },
     "metadata": {},
     "execution_count": 11
    }
   ],
   "source": [
    "round(rl.mean(), 2)"
   ]
  },
  {
   "source": [
    "Now we'll let the computer remember the states of the coin by adding them to the action set each time a game has been played."
   ],
   "cell_type": "markdown",
   "metadata": {}
  },
  {
   "cell_type": "code",
   "execution_count": 9,
   "metadata": {},
   "outputs": [
    {
     "output_type": "execute_result",
     "data": {
      "text/plain": [
       "array([6835, 6746, 6806, 6867, 6782, 6859, 6802, 6856, 6894, 6742, 6706,\n",
       "       6837, 6814, 6817, 6855])"
      ]
     },
     "metadata": {},
     "execution_count": 9
    }
   ],
   "source": [
    "def epoch():\n",
    "    tr = 0\n",
    "    asp = [1, 0]\n",
    "    for _ in range(100):\n",
    "        a = np.random.choice(asp)\n",
    "        s = np.random.choice(ssp)\n",
    "        if a == s:\n",
    "            tr += 1\n",
    "        asp.append(s)\n",
    "    return tr\n",
    "\n",
    "rl = np.array([epoch() for _ in range(15)])\n",
    "rl"
   ]
  },
  {
   "cell_type": "code",
   "execution_count": 10,
   "metadata": {},
   "outputs": [
    {
     "output_type": "execute_result",
     "data": {
      "text/plain": [
       "6814.53"
      ]
     },
     "metadata": {},
     "execution_count": 10
    }
   ],
   "source": [
    "round(rl.mean(), 2)"
   ]
  },
  {
   "source": [
    ":::{admonition} Assignments:\n",
    ":class: hint\n",
    "\n",
    "- *Individual* -- Try to change the parameters and understand the mechanics of the separate functions\n",
    ":::"
   ],
   "cell_type": "markdown",
   "metadata": {}
  }
 ],
 "metadata": {
  "kernelspec": {
   "display_name": "Python 3",
   "language": "python",
   "name": "python3"
  },
  "language_info": {
   "codemirror_mode": {
    "name": "ipython",
    "version": 3
   },
   "file_extension": ".py",
   "mimetype": "text/x-python",
   "name": "python",
   "nbconvert_exporter": "python",
   "pygments_lexer": "ipython3",
   "version": "3.7.3-final"
  },
  "widgets": {
   "application/vnd.jupyter.widget-state+json": {
    "state": {},
    "version_major": 2,
    "version_minor": 0
   }
  }
 },
 "nbformat": 4,
 "nbformat_minor": 4
}